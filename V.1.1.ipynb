{
 "cells": [
  {
   "cell_type": "markdown",
   "metadata": {},
   "source": [
    "## Corona Virus Project V.1.1\n",
    "\n",
    "**This Version is the start of this project series about Corona Virus nowadays (i'am talking about this year 2020! a strange year!)**\n",
    "\n",
    "**So, Here i'm trying to learn Data Science by doing this project on different sequential versions**\n",
    "\n",
    "### Some Notes about this version:\n",
    "\n",
    "* phase #1 project; Data Gathering & Data Visualizing\n",
    "* type #1 data; Structured Data\n",
    "\n",
    "---\n",
    "\n",
    "> and here i'm also learning Markdown, Jupyter Notebooks, and Git. Amazing, right!\n",
    "\n",
    "---"
   ]
  },
  {
   "cell_type": "markdown",
   "metadata": {},
   "source": [
    "**I used the data provided by WHO website**\n",
    "> From that link: https://covid19.who.int/ (time of extract was **Saturday, June 27, 2020, 10:43:10 AM**)  \n",
    "\n",
    "> Especially that link: https://covid19.who.int/WHO-COVID-19-global-data.csv  \n",
    "\n",
    "I think it's enough for the first version of this project that amount of data!!  \n",
    "\n",
    "We are going to have more and more data on further analysis\n",
    "\n",
    "**And Let's start cooking the data!**\n",
    "\n",
    "### And I'm really sorry for my bad English! I'm still trying! :)\n",
    "\n",
    "---"
   ]
  },
  {
   "cell_type": "code",
   "execution_count": 1,
   "metadata": {},
   "outputs": [],
   "source": [
    "#Here i strat with importing the libraries that i will need through this notebook or this version\n",
    "\n",
    "import numpy as np\n",
    "import pandas as pd\n",
    "import matplotlib.pyplot as plt\n",
    "import os\n",
    "import sys\n",
    "\n",
    "%matplotlib inline\n",
    "\n",
    "os.chdir(\"D:\\\\Work\\\\Lab\\\\Fun_Area\\\\corona_virus\\\\V.1\")"
   ]
  },
  {
   "cell_type": "markdown",
   "metadata": {},
   "source": [
    "---\n",
    "\n",
    "There was a problem here but i handled it with simple fixes but it needs more research further!  \n",
    "\n",
    "I was in need to a package named \"missingno\" which was not included on the conda environment (Version 4.8.3) on my machine,  \n",
    "\n",
    "Then i searched on google about the issue then i found this article from this link (https://jakevdp.github.io/blog/2017/12/05/installing-python-packages-from-jupyter/).  \n",
    "\n",
    "and then i learned a new way to install packages that not included in the main conda environment by using the conda-forge project from this link (https://conda-forge.org/).  \n",
    "\n",
    "and as simple as it is mentioned in the article, if you can't install a specific package that not exist in **conda** then you can check **conda-forge** and if you still can't find it there then you can use **pip** of (https://pypi.org/)  \n",
    "\n",
    "conda --> conda-forge --> pip\n",
    "\n",
    "and also any code that needs the shell to be executed you can use the exclamation mark \"!\" to run it from the jupyter notebooks like this:\n",
    "\n",
    "> !conda config --add channels conda-forge  \n",
    "> !conda config --set channel_priority strict  \n",
    "> * actually those two lines of code were the solution to add the **conda-forge** project channels inside my conda environment and because of that (especially that issue) it needs further research so it will not make unwanted changes on the main default environment like i found the new channel of conda-forge was added directly on the top of the default channel and also the UI of Anaconda has been changed also. and that was because i was using the anaconda not in a seperate state from the system i'm running and that's a bad behaviour because i should use the anaconda on a seprated environment like virtual environment and that's different from using the Python from \"virtualenv\" without using conda at all or at least i should create a new user rather than adding the new channel on the root user directly!\n",
    "Anyway that's the version #1 of this project, so we can fix that on the next version.\n",
    "Do not forget i'm trying to learn Data Science by doing and that's a real fun, so mistakes are interesting and acceptable here. and for sure doing mistakes here are the real fun!\n",
    "---"
   ]
  },
  {
   "cell_type": "markdown",
   "metadata": {},
   "source": [
    "**to install missingno package through conda inside the jupyter**  \n",
    "\n",
    "!conda install --yes --prefix {sys.prefix} missingno"
   ]
  },
  {
   "cell_type": "code",
   "execution_count": 2,
   "metadata": {},
   "outputs": [],
   "source": [
    "import missingno"
   ]
  },
  {
   "cell_type": "code",
   "execution_count": 3,
   "metadata": {},
   "outputs": [
    {
     "data": {
      "text/plain": [
       "['V.1.1.ipynb', 'WHO-COVID-19-global-data.csv']"
      ]
     },
     "execution_count": 3,
     "metadata": {},
     "output_type": "execute_result"
    }
   ],
   "source": [
    "os.listdir()"
   ]
  },
  {
   "cell_type": "code",
   "execution_count": 4,
   "metadata": {},
   "outputs": [],
   "source": [
    "corona = pd.read_csv('WHO-COVID-19-global-data.csv', parse_dates=[\"Date_reported\"])"
   ]
  },
  {
   "cell_type": "code",
   "execution_count": 5,
   "metadata": {},
   "outputs": [
    {
     "data": {
      "text/html": [
       "<div>\n",
       "<style scoped>\n",
       "    .dataframe tbody tr th:only-of-type {\n",
       "        vertical-align: middle;\n",
       "    }\n",
       "\n",
       "    .dataframe tbody tr th {\n",
       "        vertical-align: top;\n",
       "    }\n",
       "\n",
       "    .dataframe thead th {\n",
       "        text-align: right;\n",
       "    }\n",
       "</style>\n",
       "<table border=\"1\" class=\"dataframe\">\n",
       "  <thead>\n",
       "    <tr style=\"text-align: right;\">\n",
       "      <th></th>\n",
       "      <th>Date_reported</th>\n",
       "      <th>Country_code</th>\n",
       "      <th>Country</th>\n",
       "      <th>WHO_region</th>\n",
       "      <th>New_cases</th>\n",
       "      <th>Cumulative_cases</th>\n",
       "      <th>New_deaths</th>\n",
       "      <th>Cumulative_deaths</th>\n",
       "    </tr>\n",
       "  </thead>\n",
       "  <tbody>\n",
       "    <tr>\n",
       "      <th>0</th>\n",
       "      <td>2020-02-24</td>\n",
       "      <td>AF</td>\n",
       "      <td>Afghanistan</td>\n",
       "      <td>EMRO</td>\n",
       "      <td>1</td>\n",
       "      <td>1</td>\n",
       "      <td>0</td>\n",
       "      <td>0</td>\n",
       "    </tr>\n",
       "    <tr>\n",
       "      <th>1</th>\n",
       "      <td>2020-02-25</td>\n",
       "      <td>AF</td>\n",
       "      <td>Afghanistan</td>\n",
       "      <td>EMRO</td>\n",
       "      <td>0</td>\n",
       "      <td>1</td>\n",
       "      <td>0</td>\n",
       "      <td>0</td>\n",
       "    </tr>\n",
       "    <tr>\n",
       "      <th>2</th>\n",
       "      <td>2020-02-26</td>\n",
       "      <td>AF</td>\n",
       "      <td>Afghanistan</td>\n",
       "      <td>EMRO</td>\n",
       "      <td>0</td>\n",
       "      <td>1</td>\n",
       "      <td>0</td>\n",
       "      <td>0</td>\n",
       "    </tr>\n",
       "    <tr>\n",
       "      <th>3</th>\n",
       "      <td>2020-02-27</td>\n",
       "      <td>AF</td>\n",
       "      <td>Afghanistan</td>\n",
       "      <td>EMRO</td>\n",
       "      <td>0</td>\n",
       "      <td>1</td>\n",
       "      <td>0</td>\n",
       "      <td>0</td>\n",
       "    </tr>\n",
       "    <tr>\n",
       "      <th>4</th>\n",
       "      <td>2020-02-28</td>\n",
       "      <td>AF</td>\n",
       "      <td>Afghanistan</td>\n",
       "      <td>EMRO</td>\n",
       "      <td>0</td>\n",
       "      <td>1</td>\n",
       "      <td>0</td>\n",
       "      <td>0</td>\n",
       "    </tr>\n",
       "  </tbody>\n",
       "</table>\n",
       "</div>"
      ],
      "text/plain": [
       "  Date_reported  Country_code      Country  WHO_region   New_cases  \\\n",
       "0    2020-02-24            AF  Afghanistan        EMRO           1   \n",
       "1    2020-02-25            AF  Afghanistan        EMRO           0   \n",
       "2    2020-02-26            AF  Afghanistan        EMRO           0   \n",
       "3    2020-02-27            AF  Afghanistan        EMRO           0   \n",
       "4    2020-02-28            AF  Afghanistan        EMRO           0   \n",
       "\n",
       "    Cumulative_cases   New_deaths   Cumulative_deaths  \n",
       "0                  1            0                   0  \n",
       "1                  1            0                   0  \n",
       "2                  1            0                   0  \n",
       "3                  1            0                   0  \n",
       "4                  1            0                   0  "
      ]
     },
     "execution_count": 5,
     "metadata": {},
     "output_type": "execute_result"
    }
   ],
   "source": [
    "corona.head()"
   ]
  },
  {
   "cell_type": "code",
   "execution_count": 6,
   "metadata": {},
   "outputs": [
    {
     "name": "stdout",
     "output_type": "stream",
     "text": [
      "<class 'pandas.core.frame.DataFrame'>\n",
      "RangeIndex: 24441 entries, 0 to 24440\n",
      "Data columns (total 8 columns):\n",
      " #   Column              Non-Null Count  Dtype         \n",
      "---  ------              --------------  -----         \n",
      " 0   Date_reported       24441 non-null  datetime64[ns]\n",
      " 1    Country_code       24191 non-null  object        \n",
      " 2    Country            24441 non-null  object        \n",
      " 3    WHO_region         24441 non-null  object        \n",
      " 4    New_cases          24441 non-null  int64         \n",
      " 5    Cumulative_cases   24441 non-null  int64         \n",
      " 6    New_deaths         24441 non-null  int64         \n",
      " 7    Cumulative_deaths  24441 non-null  int64         \n",
      "dtypes: datetime64[ns](1), int64(4), object(3)\n",
      "memory usage: 1.5+ MB\n"
     ]
    }
   ],
   "source": [
    "corona.info()\n",
    "#there is leading whitespaces in most of column names so we are going to remove them in the next cells!\n",
    "#BTW this whitespaces you can't notice them in the display of corona.head()"
   ]
  },
  {
   "cell_type": "code",
   "execution_count": 7,
   "metadata": {},
   "outputs": [
    {
     "name": "stdout",
     "output_type": "stream",
     "text": [
      "Index(['Date_reported', ' Country_code', ' Country', ' WHO_region',\n",
      "       ' New_cases', ' Cumulative_cases', ' New_deaths', ' Cumulative_deaths'],\n",
      "      dtype='object')\n"
     ]
    }
   ],
   "source": [
    "# Here you can notice the whitespace that leads most of column names\n",
    "print(corona.columns)"
   ]
  },
  {
   "cell_type": "code",
   "execution_count": 8,
   "metadata": {},
   "outputs": [
    {
     "name": "stdout",
     "output_type": "stream",
     "text": [
      "Index(['Date_reported', 'Country_code', 'Country', 'WHO_region', 'New_cases',\n",
      "       'Cumulative_cases', 'New_deaths', 'Cumulative_deaths'],\n",
      "      dtype='object')\n"
     ]
    }
   ],
   "source": [
    "# to remove leading and ending whitespace in column names if exists! so we protect ourselves from errors such as KeyError!\n",
    "temp_column_names = []\n",
    "for n in corona.columns:\n",
    "    temp_column_names.append(n.strip())\n",
    "corona.columns = temp_column_names\n",
    "print(corona.columns)\n",
    "#Now There is no whitespaces!"
   ]
  },
  {
   "cell_type": "code",
   "execution_count": 9,
   "metadata": {},
   "outputs": [
    {
     "data": {
      "text/plain": [
       "<matplotlib.axes._subplots.AxesSubplot at 0x247005119c8>"
      ]
     },
     "execution_count": 9,
     "metadata": {},
     "output_type": "execute_result"
    },
    {
     "data": {
      "image/png": "[encoded data removed]",
      "text/plain": [
       "<Figure size 1800x720 with 2 Axes>"
      ]
     },
     "metadata": {
      "needs_background": "light"
     },
     "output_type": "display_data"
    }
   ],
   "source": [
    "#I noticed there were null values in the Country_code variable so let's examine it here\n",
    "missingno.matrix(corona)\n",
    "#yes! this variable has missing values, let's examine more and compare the Country_code variable with Country variable"
   ]
  },
  {
   "cell_type": "code",
   "execution_count": 10,
   "metadata": {},
   "outputs": [
    {
     "data": {
      "text/html": [
       "<div>\n",
       "<style scoped>\n",
       "    .dataframe tbody tr th:only-of-type {\n",
       "        vertical-align: middle;\n",
       "    }\n",
       "\n",
       "    .dataframe tbody tr th {\n",
       "        vertical-align: top;\n",
       "    }\n",
       "\n",
       "    .dataframe thead th {\n",
       "        text-align: right;\n",
       "    }\n",
       "</style>\n",
       "<table border=\"1\" class=\"dataframe\">\n",
       "  <thead>\n",
       "    <tr style=\"text-align: right;\">\n",
       "      <th></th>\n",
       "      <th>Date_reported</th>\n",
       "      <th>Country_code</th>\n",
       "      <th>Country</th>\n",
       "      <th>WHO_region</th>\n",
       "      <th>New_cases</th>\n",
       "      <th>Cumulative_cases</th>\n",
       "      <th>New_deaths</th>\n",
       "      <th>Cumulative_deaths</th>\n",
       "    </tr>\n",
       "  </thead>\n",
       "  <tbody>\n",
       "    <tr>\n",
       "      <th>15350</th>\n",
       "      <td>2020-03-14</td>\n",
       "      <td>NaN</td>\n",
       "      <td>Namibia</td>\n",
       "      <td>AFRO</td>\n",
       "      <td>2</td>\n",
       "      <td>2</td>\n",
       "      <td>0</td>\n",
       "      <td>0</td>\n",
       "    </tr>\n",
       "    <tr>\n",
       "      <th>15351</th>\n",
       "      <td>2020-03-15</td>\n",
       "      <td>NaN</td>\n",
       "      <td>Namibia</td>\n",
       "      <td>AFRO</td>\n",
       "      <td>0</td>\n",
       "      <td>2</td>\n",
       "      <td>0</td>\n",
       "      <td>0</td>\n",
       "    </tr>\n",
       "    <tr>\n",
       "      <th>15352</th>\n",
       "      <td>2020-03-16</td>\n",
       "      <td>NaN</td>\n",
       "      <td>Namibia</td>\n",
       "      <td>AFRO</td>\n",
       "      <td>0</td>\n",
       "      <td>2</td>\n",
       "      <td>0</td>\n",
       "      <td>0</td>\n",
       "    </tr>\n",
       "    <tr>\n",
       "      <th>15353</th>\n",
       "      <td>2020-03-17</td>\n",
       "      <td>NaN</td>\n",
       "      <td>Namibia</td>\n",
       "      <td>AFRO</td>\n",
       "      <td>0</td>\n",
       "      <td>2</td>\n",
       "      <td>0</td>\n",
       "      <td>0</td>\n",
       "    </tr>\n",
       "    <tr>\n",
       "      <th>15354</th>\n",
       "      <td>2020-03-18</td>\n",
       "      <td>NaN</td>\n",
       "      <td>Namibia</td>\n",
       "      <td>AFRO</td>\n",
       "      <td>0</td>\n",
       "      <td>2</td>\n",
       "      <td>0</td>\n",
       "      <td>0</td>\n",
       "    </tr>\n",
       "    <tr>\n",
       "      <th>...</th>\n",
       "      <td>...</td>\n",
       "      <td>...</td>\n",
       "      <td>...</td>\n",
       "      <td>...</td>\n",
       "      <td>...</td>\n",
       "      <td>...</td>\n",
       "      <td>...</td>\n",
       "      <td>...</td>\n",
       "    </tr>\n",
       "    <tr>\n",
       "      <th>16990</th>\n",
       "      <td>2020-06-23</td>\n",
       "      <td>NaN</td>\n",
       "      <td>Other</td>\n",
       "      <td>Other</td>\n",
       "      <td>0</td>\n",
       "      <td>741</td>\n",
       "      <td>0</td>\n",
       "      <td>13</td>\n",
       "    </tr>\n",
       "    <tr>\n",
       "      <th>16991</th>\n",
       "      <td>2020-06-24</td>\n",
       "      <td>NaN</td>\n",
       "      <td>Other</td>\n",
       "      <td>Other</td>\n",
       "      <td>0</td>\n",
       "      <td>741</td>\n",
       "      <td>0</td>\n",
       "      <td>13</td>\n",
       "    </tr>\n",
       "    <tr>\n",
       "      <th>16992</th>\n",
       "      <td>2020-06-25</td>\n",
       "      <td>NaN</td>\n",
       "      <td>Other</td>\n",
       "      <td>Other</td>\n",
       "      <td>0</td>\n",
       "      <td>741</td>\n",
       "      <td>0</td>\n",
       "      <td>13</td>\n",
       "    </tr>\n",
       "    <tr>\n",
       "      <th>16993</th>\n",
       "      <td>2020-06-26</td>\n",
       "      <td>NaN</td>\n",
       "      <td>Other</td>\n",
       "      <td>Other</td>\n",
       "      <td>0</td>\n",
       "      <td>741</td>\n",
       "      <td>0</td>\n",
       "      <td>13</td>\n",
       "    </tr>\n",
       "    <tr>\n",
       "      <th>16994</th>\n",
       "      <td>2020-06-27</td>\n",
       "      <td>NaN</td>\n",
       "      <td>Other</td>\n",
       "      <td>Other</td>\n",
       "      <td>0</td>\n",
       "      <td>741</td>\n",
       "      <td>0</td>\n",
       "      <td>13</td>\n",
       "    </tr>\n",
       "  </tbody>\n",
       "</table>\n",
       "<p>250 rows × 8 columns</p>\n",
       "</div>"
      ],
      "text/plain": [
       "      Date_reported Country_code  Country WHO_region  New_cases  \\\n",
       "15350    2020-03-14          NaN  Namibia       AFRO          2   \n",
       "15351    2020-03-15          NaN  Namibia       AFRO          0   \n",
       "15352    2020-03-16          NaN  Namibia       AFRO          0   \n",
       "15353    2020-03-17          NaN  Namibia       AFRO          0   \n",
       "15354    2020-03-18          NaN  Namibia       AFRO          0   \n",
       "...             ...          ...      ...        ...        ...   \n",
       "16990    2020-06-23          NaN    Other      Other          0   \n",
       "16991    2020-06-24          NaN    Other      Other          0   \n",
       "16992    2020-06-25          NaN    Other      Other          0   \n",
       "16993    2020-06-26          NaN    Other      Other          0   \n",
       "16994    2020-06-27          NaN    Other      Other          0   \n",
       "\n",
       "       Cumulative_cases  New_deaths  Cumulative_deaths  \n",
       "15350                 2           0                  0  \n",
       "15351                 2           0                  0  \n",
       "15352                 2           0                  0  \n",
       "15353                 2           0                  0  \n",
       "15354                 2           0                  0  \n",
       "...                 ...         ...                ...  \n",
       "16990               741           0                 13  \n",
       "16991               741           0                 13  \n",
       "16992               741           0                 13  \n",
       "16993               741           0                 13  \n",
       "16994               741           0                 13  \n",
       "\n",
       "[250 rows x 8 columns]"
      ]
     },
     "execution_count": 10,
     "metadata": {},
     "output_type": "execute_result"
    }
   ],
   "source": [
    "#let's filter corona datafrome based on the call of .isnull method on Country_code variable \n",
    "corona[corona['Country_code'].isnull()]\n",
    "\n",
    "# the insight we got from this printout is the total number of missing values which is 250 record.\n",
    "# but we can't be certain about the list of country names that have misssing values in the Country_code variable till now the printout is showing two records (Namibia, Other)\n",
    "# but may be more there, let's see"
   ]
  },
  {
   "cell_type": "code",
   "execution_count": 11,
   "metadata": {},
   "outputs": [
    {
     "data": {
      "text/plain": [
       "array(['Namibia', 'Other'], dtype=object)"
      ]
     },
     "execution_count": 11,
     "metadata": {},
     "output_type": "execute_result"
    }
   ],
   "source": [
    "# when we select the Country variable from the previous dataframe we can call the pandas Series method .unique() on the variable.\n",
    "# Let's see the result\n",
    "\n",
    "corona[corona['Country_code'].isnull()]['Country'].unique()\n",
    "\n",
    "# Yes, now we are certain about the list of countries that have missing entries in the variable \"Country_code\""
   ]
  },
  {
   "cell_type": "code",
   "execution_count": 12,
   "metadata": {},
   "outputs": [
    {
     "name": "stdout",
     "output_type": "stream",
     "text": [
      "[nan]\n",
      "[nan]\n"
     ]
    }
   ],
   "source": [
    "# First we need to check whether the country \"Namibia\" has a Country_code value in the main dataset or we will search for it on the web\n",
    "# Second we are going to examine the Other entry in the Country variable the same as we do with the Namibia\n",
    "\n",
    "print(corona[corona['Country'] == 'Namibia']['Country_code'].unique())\n",
    "print(corona[corona['Country'] == 'Other']['Country_code'].unique())\n",
    "\n",
    "# so we are certain now about all the records about (Namibia & Other) countries has no country codes in the main dataset\n",
    "# We are going to write it ourselves, but why we need to do that if we can use the Country variable instead of this Country_code Variable\n",
    "# Actually we will need that variable in further analysis in this project when we need to join this dataset with other datasets based on the abbreviations of the country names\n",
    "# We have only one useful key now for this dataset which is Country_code so in this phase which is phase #1 (Data Gathering & Data Visualizaion) we clear the data and explore it\n",
    "# for further manipulation and transformation so we can end up with a tidy and clean dataset to be used in the phase #2 (Data Analysis & Data Visualization)\n",
    "# I.e building models and communicating results with you :)\n",
    "\n",
    "# Anyway, We end up with this result nan value for both records (Namibia & Other) from the variable Country_code\n",
    "# Google is my best friend all the time"
   ]
  },
  {
   "cell_type": "code",
   "execution_count": 13,
   "metadata": {},
   "outputs": [
    {
     "name": "stdout",
     "output_type": "stream",
     "text": [
      "nan\n"
     ]
    }
   ],
   "source": [
    "# first we need to examine the list of abbreviations from this dataset\n",
    "# Look, the postal abbreviations of country names of all the world are consisted of two characters, we need to be sure that's the case with this dataset or not! \n",
    "# i do not know how that happened actually i knew that ant numpy array could have one data type\n",
    "# but in this case the numpy array (that we get from the call of .unique() method on the pandas series which is any variable on this dataset) has many values\n",
    "# and that needs further research especially when the nan value placed inside the array which is making the confussion here\n",
    "# so, to solve the problem, i explicitly converted all the values of the resulted array into str objects by calling the method .astype() with \"str\" on the array\n",
    "# Here in this test we will get the value of any record that will not meet the criteria of Postal codes abbreviations for country names which is two characters\n",
    "# so, we got just the nan value\n",
    "\n",
    "for c in corona['Country_code'].unique().astype(\"str\"):\n",
    "    if len(c) != 2:\n",
    "        print(c)\n",
    "    else:\n",
    "        continue"
   ]
  },
  {
   "cell_type": "code",
   "execution_count": 14,
   "metadata": {},
   "outputs": [],
   "source": [
    "# in this step we need to pass the values (NA, XX) as (Namibia, Other) abbreviation records in the variable Country_code\n",
    "# maybe there is a simple way to do that in a pandas dataframe and maybe faster than this code but as we said before that's the first version of this project so no optimization here\n",
    "for i in corona[(corona['Country_code'].isnull()) & (corona['Country'] == \"Namibia\")].index:\n",
    "    corona.loc[i, \"Country_code\"] = \"NA\"\n",
    "    \n",
    "for i in corona[(corona['Country_code'].isnull()) & (corona['Country'] == \"Other\")].index:\n",
    "    corona.loc[i, \"Country_code\"] = \"XX\""
   ]
  },
  {
   "cell_type": "code",
   "execution_count": 15,
   "metadata": {},
   "outputs": [
    {
     "name": "stdout",
     "output_type": "stream",
     "text": [
      "<class 'pandas.core.frame.DataFrame'>\n",
      "RangeIndex: 24441 entries, 0 to 24440\n",
      "Data columns (total 8 columns):\n",
      " #   Column             Non-Null Count  Dtype         \n",
      "---  ------             --------------  -----         \n",
      " 0   Date_reported      24441 non-null  datetime64[ns]\n",
      " 1   Country_code       24441 non-null  object        \n",
      " 2   Country            24441 non-null  object        \n",
      " 3   WHO_region         24441 non-null  object        \n",
      " 4   New_cases          24441 non-null  int64         \n",
      " 5   Cumulative_cases   24441 non-null  int64         \n",
      " 6   New_deaths         24441 non-null  int64         \n",
      " 7   Cumulative_deaths  24441 non-null  int64         \n",
      "dtypes: datetime64[ns](1), int64(4), object(3)\n",
      "memory usage: 1.5+ MB\n"
     ]
    }
   ],
   "source": [
    "# Now we have a complete dataset without null values, but let's check on that by calling the method .info() on the dataframe corona\n",
    "corona.info()\n",
    "# No null values here"
   ]
  },
  {
   "cell_type": "code",
   "execution_count": 16,
   "metadata": {},
   "outputs": [
    {
     "data": {
      "text/plain": [
       "<matplotlib.axes._subplots.AxesSubplot at 0x24700aee388>"
      ]
     },
     "execution_count": 16,
     "metadata": {},
     "output_type": "execute_result"
    },
    {
     "data": {
      "image/png": "[encoded data removed]",
      "text/plain": [
       "<Figure size 1800x720 with 2 Axes>"
      ]
     },
     "metadata": {
      "needs_background": "light"
     },
     "output_type": "display_data"
    }
   ],
   "source": [
    "# Let's use the matrix graph from the missingno package to see that visually\n",
    "missingno.matrix(corona)\n",
    "# No gaps on our dataset now\n",
    "# you can compare that graph with the first one to be sure!"
   ]
  },
  {
   "cell_type": "markdown",
   "metadata": {},
   "source": [
    "---\n",
    "\n",
    "**Let's check each variable or feature in some level of details**\n",
    "\n",
    "---"
   ]
  },
  {
   "cell_type": "code",
   "execution_count": 17,
   "metadata": {},
   "outputs": [
    {
     "data": {
      "text/plain": [
       "count                   24441\n",
       "unique                    169\n",
       "top       2020-05-23 00:00:00\n",
       "freq                      216\n",
       "first     2020-01-11 00:00:00\n",
       "last      2020-06-27 00:00:00\n",
       "Name: Date_reported, dtype: object"
      ]
     },
     "execution_count": 17,
     "metadata": {},
     "output_type": "execute_result"
    }
   ],
   "source": [
    "# Here we can see that we got 169 days from the call of .describe() method on the Date_reported Variable\n",
    "# But we can not depend on the value of top reporting day from the call of this method\n",
    "# to check on that top day with the top frequency of reporting cases we need to do different calls on the datetime object\n",
    "\n",
    "corona.Date_reported.describe()"
   ]
  },
  {
   "cell_type": "code",
   "execution_count": 18,
   "metadata": {},
   "outputs": [
    {
     "data": {
      "text/plain": [
       "count     24441\n",
       "unique      216\n",
       "top          CN\n",
       "freq        169\n",
       "Name: Country_code, dtype: object"
      ]
     },
     "execution_count": 18,
     "metadata": {},
     "output_type": "execute_result"
    }
   ],
   "source": [
    "# Here we got this insight about the total number of countries that reported corona virus during this period which is 215 country and the extra country is the XX abbreviation\n",
    "# The XX abbreviation that we modified inside the dataframe to represent all the other countries or regions that reported corona under the value of Other in the Country variable\n",
    "# but this value is weird because the total number of countries in the world is 195\n",
    "# And that weird number will have its further analysis in the next versions of this project so we can doing accurate geospatial analysis in future!\n",
    "# Bur for now as WHO tells us there is 215 countries in their dataset and an extra basket with the value of Other to have the other regions\n",
    "# Another insight is the top country with top frequency of reporting corona virus cases on daily bases which is China with an abbreviation \"CN\"\n",
    "# But we can not be certain about this insight from the call of .describe() method here, because that type of investigation needs another type of code or analysis\n",
    "\n",
    "corona.Country_code.describe()"
   ]
  },
  {
   "cell_type": "code",
   "execution_count": 19,
   "metadata": {},
   "outputs": [
    {
     "data": {
      "text/plain": [
       "count     24441\n",
       "unique      216\n",
       "top       China\n",
       "freq        169\n",
       "Name: Country, dtype: object"
      ]
     },
     "execution_count": 19,
     "metadata": {},
     "output_type": "execute_result"
    }
   ],
   "source": [
    "# The same insights and the same explansion as the previous variable whisch is Country_code\n",
    "corona.Country.describe()"
   ]
  },
  {
   "cell_type": "code",
   "execution_count": 20,
   "metadata": {},
   "outputs": [
    {
     "data": {
      "text/plain": [
       "count     24441\n",
       "unique        7\n",
       "top        EURO\n",
       "freq       7261\n",
       "Name: WHO_region, dtype: object"
      ]
     },
     "execution_count": 20,
     "metadata": {},
     "output_type": "execute_result"
    }
   ],
   "source": [
    "# Here we got a different insight about the total number of regions that WHO recognizes that needs more research about how WHO group countries around the world\n",
    "# Is it grouping the countries based on continents or based on something else! We gonna see!\n",
    "# but the most obvious insight we can get from here which is the top reporting Region which is \"EURO\", Standing for Europe Region with a frequency value of 7261\n",
    "\n",
    "corona.WHO_region.describe()"
   ]
  },
  {
   "cell_type": "code",
   "execution_count": 21,
   "metadata": {},
   "outputs": [
    {
     "name": "stdout",
     "output_type": "stream",
     "text": [
      "['EMRO' 'EURO' 'AFRO' 'AMRO' 'WPRO' 'SEARO' 'Other']\n"
     ]
    }
   ],
   "source": [
    "# And to get some info about the WHO grouping of countries, I called .unique() method on the WHO_region variable \n",
    "print(corona.WHO_region.unique())"
   ]
  },
  {
   "cell_type": "code",
   "execution_count": 22,
   "metadata": {},
   "outputs": [
    {
     "data": {
      "text/plain": [
       "count    24441.000000\n",
       "mean       392.409885\n",
       "std       2157.585385\n",
       "min      -3525.000000\n",
       "25%          0.000000\n",
       "50%          5.000000\n",
       "75%         77.000000\n",
       "max      54771.000000\n",
       "Name: New_cases, dtype: float64"
      ]
     },
     "execution_count": 22,
     "metadata": {},
     "output_type": "execute_result"
    }
   ],
   "source": [
    "# Although the ingights that we get from here is so useful and describe a lot from our dataset but we cant depend on all the statistical values we got here\n",
    "# and that because of the most important insight we got about that variable which is the possibilities of having negative values inside the variable\n",
    "# and because of that we need at first know the main explanation of that, and it could be amazing actually to have this type of records inside the variable\n",
    "# that could tell us something about the quality of reporting, or it could be a representaion of something else and if that thing will be with the \"New_deaths\" Variable\n",
    "# It could tell us more and more about our data here! So in general that's amazing thing and it will be our area of fun with data through the different versions of this project\n",
    "# but we can tell what the maximum value of reporting new cases which is 54771 (We gonna know more about this value and what country that reported that and so on)\n",
    "# Just Be patient!\n",
    "# Another insight we can get from here is this variable will need a lot of data transformation through the project so we can get useful insights from it.\n",
    "\n",
    "corona.New_cases.describe()"
   ]
  },
  {
   "cell_type": "code",
   "execution_count": 23,
   "metadata": {},
   "outputs": [
    {
     "name": "stdout",
     "output_type": "stream",
     "text": [
      "The Total Number of Negative Observation: 32\n",
      "The Sum Amount of Negative Observation: -12726\n"
     ]
    }
   ],
   "source": [
    "# And just to check on the possibilities of having many negative values on this variable, i called the two lines of code\n",
    "# We got 32 observation with negative value in the variable \"New_cases\"\n",
    "# And the total sum of them is -12726 cases\n",
    "# So it seems a real thing and not error with the variable \"New_cases\" that we examine here!\n",
    "\n",
    "print(\"The Total Number of Negative Observation: \" + str(corona[corona[\"New_cases\"] < 0][\"New_cases\"].count()))\n",
    "print(\"The Sum Amount of Negative Observation: \" + str(corona[corona[\"New_cases\"] < 0][\"New_cases\"].sum()))"
   ]
  },
  {
   "cell_type": "code",
   "execution_count": 24,
   "metadata": {},
   "outputs": [
    {
     "data": {
      "text/plain": [
       "count    2.444100e+04\n",
       "mean     1.690287e+04\n",
       "std      9.999367e+04\n",
       "min      1.000000e+00\n",
       "25%      2.500000e+01\n",
       "50%      3.330000e+02\n",
       "75%      3.039000e+03\n",
       "max      2.407590e+06\n",
       "Name: Cumulative_cases, dtype: float64"
      ]
     },
     "execution_count": 24,
     "metadata": {},
     "output_type": "execute_result"
    }
   ],
   "source": [
    "# We can not have any useful insight here by calling the .describe() method on \"Cumulative_cases\" variable\n",
    "# the only thing here is the max value which is 2,407,590 cases that is the highest value with reported cases from some country!\n",
    "# And by reading the news you can know that's USA\n",
    "# So we can use that variable in a different manner in future, so we can get useful insights from it, but that will be done in further analysis! Not Now!\n",
    "\n",
    "corona.Cumulative_cases.describe()"
   ]
  },
  {
   "cell_type": "code",
   "execution_count": 25,
   "metadata": {},
   "outputs": [
    {
     "data": {
      "text/plain": [
       "count    24441.000000\n",
       "mean        20.028068\n",
       "std        132.189009\n",
       "min      -1918.000000\n",
       "25%          0.000000\n",
       "50%          0.000000\n",
       "75%          2.000000\n",
       "max       6409.000000\n",
       "Name: New_deaths, dtype: float64"
      ]
     },
     "execution_count": 25,
     "metadata": {},
     "output_type": "execute_result"
    }
   ],
   "source": [
    "# The same thing with the previous \"New_cases\" variable and the same insights\n",
    "# Possibilities of having negative values are existing\n",
    "# The Maximum number of death cases was 6409 case in one day! (We are going to know more about that number in further analysis)\n",
    "\n",
    "corona.New_deaths.describe()"
   ]
  },
  {
   "cell_type": "code",
   "execution_count": 26,
   "metadata": {},
   "outputs": [
    {
     "name": "stdout",
     "output_type": "stream",
     "text": [
      "The Total Number of Negative Observation: 16\n",
      "The Sum Amount of Negative Observation: -3554\n"
     ]
    }
   ],
   "source": [
    "# Checking the possibilities of having negative values inside the variable \"New_deaths\"\n",
    "\n",
    "print(\"The Total Number of Negative Observation: \" + str(corona[corona[\"New_deaths\"] < 0][\"New_deaths\"].count()))\n",
    "print(\"The Sum Amount of Negative Observation: \" + str(corona[corona[\"New_deaths\"] < 0][\"New_deaths\"].sum()))"
   ]
  },
  {
   "cell_type": "code",
   "execution_count": 27,
   "metadata": {},
   "outputs": [
    {
     "data": {
      "text/plain": [
       "count     24441.000000\n",
       "mean       1022.088131\n",
       "std        6221.567948\n",
       "min           0.000000\n",
       "25%           0.000000\n",
       "50%           7.000000\n",
       "75%          69.000000\n",
       "max      124161.000000\n",
       "Name: Cumulative_deaths, dtype: float64"
      ]
     },
     "execution_count": 27,
     "metadata": {},
     "output_type": "execute_result"
    }
   ],
   "source": [
    "# The same as we got before from the previous Cumulative_cases variable which is Nothing important here by calling the .describe() method on that variable\n",
    "# but we can get the max value of cumulative reporting from some country at some date which is 124,161 cases and you can think of USA\n",
    "# but that's weird because that number is different than the number on news about USA (We're gonna investigate that too!)\n",
    "# A lot of etsimation here, that's not a data science!!!! but anyway we did not mention any thing about facts till now! :)\n",
    "\n",
    "corona.Cumulative_deaths.describe()"
   ]
  },
  {
   "cell_type": "markdown",
   "metadata": {},
   "source": [
    "---\n",
    "\n",
    "**I think that's okay for that Version of the project**  \n",
    "**The whole idea about that project is about making data science more fun for me instead of just studying courses from datacamp and doing just the projects & exercises they provide to me**  \n",
    "**That vesrsion of the project has its phase #1 of doing data science (And that organizing thing, actually it's personal, i like to organize the flow of work this way)**  \n",
    "> Phase #1: Data Gathering & Data Visualizing; it means data gathering, cleaning, reshaping, transforming, manipulating, and exploring by visuals  \n",
    "> Phase #2: Data Analysis & Data Visualizing; it means data analysis, modeling, machine learning modeling, and communicating the results with visuals  \n",
    "> Phase #3: Data Product; it means developing real solutions by using different programming languages so the loop will be closed from phase #1 to phase #3  \n",
    "\n",
    "**And for sure this data it's so so tidy data from the source which is WHO you can find it from here https://covid19.who.int/**\n",
    "\n",
    "**In future we can see so more complicated data rather than that tidy beautiful data, and it will have a lot of work cleaning, scrubbing and munging**\n",
    "\n",
    "**We gonna use the structured, semi-structured, unstructured, traditional, and big data types through this ptroject**\n",
    "\n",
    "**We are going to have a real fun here**\n",
    "\n",
    "**The only not real fun fact here is the Corona Virus, Be Safe, and Survive**\n",
    "\n",
    "**You Can Do It**\n",
    "\n",
    "**And see you, Tomorrow!**\n",
    "\n",
    "---"
   ]
  }
 ],
 "metadata": {
  "kernelspec": {
   "display_name": "Python 3",
   "language": "python",
   "name": "python3"
  },
  "language_info": {
   "codemirror_mode": {
    "name": "ipython",
    "version": 3
   },
   "file_extension": ".py",
   "mimetype": "text/x-python",
   "name": "python",
   "nbconvert_exporter": "python",
   "pygments_lexer": "ipython3",
   "version": "3.7.6"
  }
 },
 "nbformat": 4,
 "nbformat_minor": 4
}
